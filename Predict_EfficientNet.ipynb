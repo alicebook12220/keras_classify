{
 "cells": [
  {
   "cell_type": "code",
   "execution_count": null,
   "metadata": {},
   "outputs": [],
   "source": [
    "import tensorflow as tf\n",
    "from tensorflow import keras\n",
    "from tensorflow.keras import layers \n",
    "from tensorflow.keras.layers import Dense\n",
    "from tensorflow.keras.applications import EfficientNetB7, EfficientNetB7, EfficientNetB1, EfficientNetB0\n",
    "from tensorflow.keras.applications.efficientnet import preprocess_input, decode_predictions\n",
    "from tensorflow.keras.preprocessing import image\n",
    "from tensorflow.python.keras.engine import training\n",
    "from tensorflow.python.keras.applications import imagenet_utils"
   ]
  },
  {
   "cell_type": "code",
   "execution_count": null,
   "metadata": {},
   "outputs": [],
   "source": [
    "#檔名.hdf5\n",
    "model = tf.keras.models.load_model(\"weights-improvement-20-0.90.hdf5\")"
   ]
  },
  {
   "cell_type": "code",
   "execution_count": null,
   "metadata": {},
   "outputs": [],
   "source": [
    "#計算整體準確率\n",
    "test_datagen = tf.keras.preprocessing.image.ImageDataGenerator(preprocessing_function=preprocess_input)\n",
    "\n",
    "validation_generator = test_datagen.flow_from_directory(\n",
    "        'dtaset/val/',\n",
    "        target_size=(640, 480),\n",
    "        batch_size=16,\n",
    "        class_mode='categorical')"
   ]
  },
  {
   "cell_type": "code",
   "execution_count": null,
   "metadata": {},
   "outputs": [],
   "source": [
    "loss, acc = model.evaluate_generator(validation_generator, steps=16)\n",
    "print(loss)\n",
    "print(acc)"
   ]
  },
  {
   "cell_type": "code",
   "execution_count": null,
   "metadata": {},
   "outputs": [],
   "source": [
    "# 多張預測\n",
    "defect_type = \"UP_PreBake\"\n",
    "img_path = \"/content/Source/\" + defect_type + \"/*.JPG\"\n",
    "img_path = glob.glob(img_path)\n",
    "print(len(img_path))"
   ]
  },
  {
   "cell_type": "code",
   "execution_count": null,
   "metadata": {},
   "outputs": [],
   "source": [
    "for im, path in enumerate(img_path):\n",
    "    img = image.load_img(path, target_size=(640, 480))\n",
    "    img_array = image.img_to_array(img)\n",
    "    img_batch = np.expand_dims(img_array, axis=0)\n",
    "    img_preprocessed = preprocess_input(img_batch)\n",
    "\n",
    "    prediction = model.predict(img_preprocessed)\n",
    "    class_max_idx = np.argmax(prediction) #class_max_idx 為信心度最高的 Class ID"
   ]
  },
  {
   "cell_type": "code",
   "execution_count": null,
   "metadata": {},
   "outputs": [],
   "source": [
    "#單張預測\n",
    "img_path = \"影像路徑\"\n",
    "img = image.load_img(img_path, target_size=(640, 480))\n",
    "img_array = image.img_to_array(img)\n",
    "img_batch = np.expand_dims(img_array, axis=0)\n",
    "img_preprocessed = preprocess_input(img_batch)\n",
    "\n",
    "prediction = model.predict(img_preprocessed)\n",
    "class_max_idx = np.argmax(prediction) #class_max_idx 為信心度最高的 Class ID"
   ]
  }
 ],
 "metadata": {
  "kernelspec": {
   "display_name": "Python 3",
   "language": "python",
   "name": "python3"
  },
  "language_info": {
   "codemirror_mode": {
    "name": "ipython",
    "version": 3
   },
   "file_extension": ".py",
   "mimetype": "text/x-python",
   "name": "python",
   "nbconvert_exporter": "python",
   "pygments_lexer": "ipython3",
   "version": "3.6.4"
  }
 },
 "nbformat": 4,
 "nbformat_minor": 2
}
